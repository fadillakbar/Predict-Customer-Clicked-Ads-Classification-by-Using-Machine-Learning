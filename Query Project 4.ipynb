{
 "cells": [
  {
   "cell_type": "markdown",
   "id": "93afc6c6-28ac-4f1b-bf37-8f64709cca0f",
   "metadata": {},
   "source": [
    "# Predict Customer Clicked Ads Classification by Using Machine Learning"
   ]
  },
  {
   "cell_type": "markdown",
   "id": "123f7c7a-a3c2-4e1e-83fe-fc6968b100d0",
   "metadata": {
    "jp-MarkdownHeadingCollapsed": true,
    "tags": []
   },
   "source": [
    "## Customer Type and Behaviour Analysis on Advertisement"
   ]
  },
  {
   "cell_type": "markdown",
   "id": "69949d8c",
   "metadata": {
    "id": "69949d8c"
   },
   "source": [
    "### Requirements"
   ]
  },
  {
   "cell_type": "code",
   "execution_count": 1,
   "id": "32773098",
   "metadata": {
    "id": "32773098",
    "outputId": "d3bec7c4-6362-4d33-c67c-262524c12e38"
   },
   "outputs": [
    {
     "name": "stdout",
     "output_type": "stream",
     "text": [
      "Requirement already satisfied: ppscore in c:\\users\\62812\\anaconda3\\lib\\site-packages (1.3.0)\n",
      "Requirement already satisfied: pandas<2.0.0,>=1.0.0 in c:\\users\\62812\\anaconda3\\lib\\site-packages (from ppscore) (1.3.4)\n",
      "Requirement already satisfied: scikit-learn<2.0.0,>=0.20.2 in c:\\users\\62812\\anaconda3\\lib\\site-packages (from ppscore) (0.24.2)\n",
      "Requirement already satisfied: numpy>=1.17.3 in c:\\users\\62812\\anaconda3\\lib\\site-packages (from pandas<2.0.0,>=1.0.0->ppscore) (1.20.3)\n",
      "Requirement already satisfied: pytz>=2017.3 in c:\\users\\62812\\anaconda3\\lib\\site-packages (from pandas<2.0.0,>=1.0.0->ppscore) (2021.3)\n",
      "Requirement already satisfied: python-dateutil>=2.7.3 in c:\\users\\62812\\anaconda3\\lib\\site-packages (from pandas<2.0.0,>=1.0.0->ppscore) (2.8.2)\n",
      "Requirement already satisfied: six>=1.5 in c:\\users\\62812\\anaconda3\\lib\\site-packages (from python-dateutil>=2.7.3->pandas<2.0.0,>=1.0.0->ppscore) (1.16.0)\n",
      "Requirement already satisfied: threadpoolctl>=2.0.0 in c:\\users\\62812\\anaconda3\\lib\\site-packages (from scikit-learn<2.0.0,>=0.20.2->ppscore) (2.2.0)\n",
      "Requirement already satisfied: joblib>=0.11 in c:\\users\\62812\\anaconda3\\lib\\site-packages (from scikit-learn<2.0.0,>=0.20.2->ppscore) (1.1.0)\n",
      "Requirement already satisfied: scipy>=0.19.1 in c:\\users\\62812\\anaconda3\\lib\\site-packages (from scikit-learn<2.0.0,>=0.20.2->ppscore) (1.7.1)\n"
     ]
    }
   ],
   "source": [
    "# You need to install library ppscore to calculate correlation between variable\n",
    "!pip install -U ppscore"
   ]
  },
  {
   "cell_type": "markdown",
   "id": "3c943cfd",
   "metadata": {
    "id": "3c943cfd"
   },
   "source": [
    "### Import Library"
   ]
  },
  {
   "cell_type": "code",
   "execution_count": 2,
   "id": "0e330fa1",
   "metadata": {
    "id": "0e330fa1"
   },
   "outputs": [],
   "source": [
    "import pandas as pd\n",
    "import numpy as np\n",
    "\n",
    "import matplotlib.pyplot as plt\n",
    "import seaborn as sns\n",
    "\n",
    "from datetime import datetime as dt\n",
    "\n",
    "from sklearn.model_selection import train_test_split\n",
    "\n",
    "from sklearn.neighbors import KNeighborsClassifier\n",
    "from sklearn.linear_model import LogisticRegression\n",
    "from sklearn.tree import DecisionTreeClassifier\n",
    "from sklearn.ensemble import RandomForestClassifier, GradientBoostingClassifier\n",
    "\n",
    "from sklearn.metrics import accuracy_score, recall_score, precision_score\n",
    "from sklearn.metrics import confusion_matrix,ConfusionMatrixDisplay\n",
    "\n",
    "from collections import defaultdict\n",
    "import ppscore as pps\n",
    "\n",
    "from warnings import filterwarnings\n",
    "filterwarnings('ignore')"
   ]
  },
  {
   "cell_type": "markdown",
   "id": "b2ec5cbd",
   "metadata": {
    "id": "b2ec5cbd"
   },
   "source": [
    "### Create UDFs"
   ]
  },
  {
   "cell_type": "code",
   "execution_count": 3,
   "id": "77cf6226",
   "metadata": {
    "id": "77cf6226"
   },
   "outputs": [],
   "source": [
    "## UDF for Feature Extraction\n",
    "def extract_day_of_week(time):\n",
    "    return dt.strptime(time,'%m/%d/%Y %H:%M').weekday()\n",
    "\n",
    "def extract_day_of_month(time):\n",
    "    return dt.strptime(time,'%m/%d/%Y %H:%M').day\n",
    "\n",
    "def extract_month(time):\n",
    "    return dt.strptime(time,'%m/%d/%Y %H:%M').month\n"
   ]
  },
  {
   "cell_type": "code",
   "execution_count": 4,
   "id": "c9276773",
   "metadata": {
    "id": "c9276773"
   },
   "outputs": [],
   "source": [
    "## UDF for experimenting several classification models\n",
    "def experiment(X_train,X_test,y_train,y_test):\n",
    "    \"\"\"\n",
    "    This function want to do an experiment for several models.\n",
    "    We just need data input\n",
    "\n",
    "    Parameter\n",
    "    ---------\n",
    "    X_train = training data contains several features\n",
    "    X_test = testing data contains several features\n",
    "    y_train = train target\n",
    "    y_test = test target\n",
    "    \"\"\"\n",
    "    result = defaultdict(list)\n",
    "    \n",
    "    knn = KNeighborsClassifier()\n",
    "    logreg = LogisticRegression()\n",
    "    dtc = DecisionTreeClassifier()\n",
    "    rf = RandomForestClassifier()\n",
    "    grad = GradientBoostingClassifier()\n",
    "    \n",
    "    list_model = [('K-Nearest Neighbor',knn),\n",
    "                  ('Logistic Regression',logreg),\n",
    "                  ('Decision Tree',dtc),\n",
    "                  ('Random Forest',rf),\n",
    "                  ('Gradient Boosting',grad)\n",
    "                 ]\n",
    "    \n",
    "    for model_name,model in list_model:\n",
    "        start = dt.now()\n",
    "        model.fit(X_train,y_train)\n",
    "        duration = (dt.now()-start).total_seconds()\n",
    "        \n",
    "        y_pred = model.predict(X_test)\n",
    "        \n",
    "        accuracy = accuracy_score(y_test,y_pred)\n",
    "        recall = recall_score(y_test,y_pred)\n",
    "        precision = precision_score(y_test,y_pred)\n",
    "        \n",
    "        result['model_name'].append(model_name)\n",
    "        result['model'].append(model)\n",
    "        result['accuracy'].append(accuracy)\n",
    "        result['recall'].append(recall)\n",
    "        result['precision'].append(precision)\n",
    "        result['duration'].append(duration)\n",
    "        \n",
    "    return result"
   ]
  },
  {
   "cell_type": "markdown",
   "id": "61da5ed4",
   "metadata": {
    "id": "61da5ed4"
   },
   "source": [
    "### Import Dataset"
   ]
  },
  {
   "cell_type": "markdown",
   "id": "7bca5385-fcb7-4eae-bdce-3b26ca71f672",
   "metadata": {
    "id": "7bca5385-fcb7-4eae-bdce-3b26ca71f672"
   },
   "source": [
    "Before we do the analysis, we need to prepare the data first. At this stage, we will call the data into the jupyter notebook and take a glimpse of what the data looks like."
   ]
  },
  {
   "cell_type": "code",
   "execution_count": 5,
   "id": "b6959538",
   "metadata": {
    "id": "b6959538",
    "outputId": "e4e30cfa-57ae-4d4a-d051-08d406e1790e"
   },
   "outputs": [
    {
     "data": {
      "text/html": [
       "<div>\n",
       "<style scoped>\n",
       "    .dataframe tbody tr th:only-of-type {\n",
       "        vertical-align: middle;\n",
       "    }\n",
       "\n",
       "    .dataframe tbody tr th {\n",
       "        vertical-align: top;\n",
       "    }\n",
       "\n",
       "    .dataframe thead th {\n",
       "        text-align: right;\n",
       "    }\n",
       "</style>\n",
       "<table border=\"1\" class=\"dataframe\">\n",
       "  <thead>\n",
       "    <tr style=\"text-align: right;\">\n",
       "      <th></th>\n",
       "      <th>Unnamed: 0</th>\n",
       "      <th>Daily Time Spent on Site</th>\n",
       "      <th>Age</th>\n",
       "      <th>Area Income</th>\n",
       "      <th>Daily Internet Usage</th>\n",
       "      <th>Male</th>\n",
       "      <th>Timestamp</th>\n",
       "      <th>Clicked on Ad</th>\n",
       "      <th>city</th>\n",
       "      <th>province</th>\n",
       "      <th>category</th>\n",
       "    </tr>\n",
       "  </thead>\n",
       "  <tbody>\n",
       "    <tr>\n",
       "      <th>0</th>\n",
       "      <td>0</td>\n",
       "      <td>68.95</td>\n",
       "      <td>35</td>\n",
       "      <td>432837300.0</td>\n",
       "      <td>256.09</td>\n",
       "      <td>Perempuan</td>\n",
       "      <td>3/27/2016 0:53</td>\n",
       "      <td>No</td>\n",
       "      <td>Jakarta Timur</td>\n",
       "      <td>Daerah Khusus Ibukota Jakarta</td>\n",
       "      <td>Furniture</td>\n",
       "    </tr>\n",
       "    <tr>\n",
       "      <th>1</th>\n",
       "      <td>1</td>\n",
       "      <td>80.23</td>\n",
       "      <td>31</td>\n",
       "      <td>479092950.0</td>\n",
       "      <td>193.77</td>\n",
       "      <td>Laki-Laki</td>\n",
       "      <td>4/4/2016 1:39</td>\n",
       "      <td>No</td>\n",
       "      <td>Denpasar</td>\n",
       "      <td>Bali</td>\n",
       "      <td>Food</td>\n",
       "    </tr>\n",
       "    <tr>\n",
       "      <th>2</th>\n",
       "      <td>2</td>\n",
       "      <td>69.47</td>\n",
       "      <td>26</td>\n",
       "      <td>418501580.0</td>\n",
       "      <td>236.50</td>\n",
       "      <td>Perempuan</td>\n",
       "      <td>3/13/2016 20:35</td>\n",
       "      <td>No</td>\n",
       "      <td>Surabaya</td>\n",
       "      <td>Jawa Timur</td>\n",
       "      <td>Electronic</td>\n",
       "    </tr>\n",
       "    <tr>\n",
       "      <th>3</th>\n",
       "      <td>3</td>\n",
       "      <td>74.15</td>\n",
       "      <td>29</td>\n",
       "      <td>383643260.0</td>\n",
       "      <td>245.89</td>\n",
       "      <td>Laki-Laki</td>\n",
       "      <td>1/10/2016 2:31</td>\n",
       "      <td>No</td>\n",
       "      <td>Batam</td>\n",
       "      <td>Kepulauan Riau</td>\n",
       "      <td>House</td>\n",
       "    </tr>\n",
       "    <tr>\n",
       "      <th>4</th>\n",
       "      <td>4</td>\n",
       "      <td>68.37</td>\n",
       "      <td>35</td>\n",
       "      <td>517229930.0</td>\n",
       "      <td>225.58</td>\n",
       "      <td>Perempuan</td>\n",
       "      <td>6/3/2016 3:36</td>\n",
       "      <td>No</td>\n",
       "      <td>Medan</td>\n",
       "      <td>Sumatra Utara</td>\n",
       "      <td>Finance</td>\n",
       "    </tr>\n",
       "  </tbody>\n",
       "</table>\n",
       "</div>"
      ],
      "text/plain": [
       "   Unnamed: 0  Daily Time Spent on Site  Age  Area Income  \\\n",
       "0           0                     68.95   35  432837300.0   \n",
       "1           1                     80.23   31  479092950.0   \n",
       "2           2                     69.47   26  418501580.0   \n",
       "3           3                     74.15   29  383643260.0   \n",
       "4           4                     68.37   35  517229930.0   \n",
       "\n",
       "   Daily Internet Usage       Male        Timestamp Clicked on Ad  \\\n",
       "0                256.09  Perempuan   3/27/2016 0:53            No   \n",
       "1                193.77  Laki-Laki    4/4/2016 1:39            No   \n",
       "2                236.50  Perempuan  3/13/2016 20:35            No   \n",
       "3                245.89  Laki-Laki   1/10/2016 2:31            No   \n",
       "4                225.58  Perempuan    6/3/2016 3:36            No   \n",
       "\n",
       "            city                       province    category  \n",
       "0  Jakarta Timur  Daerah Khusus Ibukota Jakarta   Furniture  \n",
       "1       Denpasar                           Bali        Food  \n",
       "2       Surabaya                     Jawa Timur  Electronic  \n",
       "3          Batam                 Kepulauan Riau       House  \n",
       "4          Medan                  Sumatra Utara     Finance  "
      ]
     },
     "execution_count": 5,
     "metadata": {},
     "output_type": "execute_result"
    }
   ],
   "source": [
    "df = pd.read_csv('C:/Users/62812/OneDrive/Documents/Fadil/Data Science/Mini Project/MP 4/Asli/Clicked Ads Dataset.csv')\n",
    "df.head()"
   ]
  },
  {
   "cell_type": "code",
   "execution_count": 6,
   "id": "f0ab8425-7d03-47e2-9b1e-2d420008fc13",
   "metadata": {},
   "outputs": [
    {
     "data": {
      "text/html": [
       "<div>\n",
       "<style scoped>\n",
       "    .dataframe tbody tr th:only-of-type {\n",
       "        vertical-align: middle;\n",
       "    }\n",
       "\n",
       "    .dataframe tbody tr th {\n",
       "        vertical-align: top;\n",
       "    }\n",
       "\n",
       "    .dataframe thead th {\n",
       "        text-align: right;\n",
       "    }\n",
       "</style>\n",
       "<table border=\"1\" class=\"dataframe\">\n",
       "  <thead>\n",
       "    <tr style=\"text-align: right;\">\n",
       "      <th></th>\n",
       "      <th>Daily Time Spent on Site</th>\n",
       "      <th>Age</th>\n",
       "      <th>Area Income</th>\n",
       "      <th>Daily Internet Usage</th>\n",
       "      <th>Male</th>\n",
       "      <th>Timestamp</th>\n",
       "      <th>Clicked on Ad</th>\n",
       "      <th>city</th>\n",
       "      <th>province</th>\n",
       "      <th>category</th>\n",
       "    </tr>\n",
       "  </thead>\n",
       "  <tbody>\n",
       "    <tr>\n",
       "      <th>0</th>\n",
       "      <td>68.95</td>\n",
       "      <td>35</td>\n",
       "      <td>432837300.0</td>\n",
       "      <td>256.09</td>\n",
       "      <td>Perempuan</td>\n",
       "      <td>3/27/2016 0:53</td>\n",
       "      <td>No</td>\n",
       "      <td>Jakarta Timur</td>\n",
       "      <td>Daerah Khusus Ibukota Jakarta</td>\n",
       "      <td>Furniture</td>\n",
       "    </tr>\n",
       "    <tr>\n",
       "      <th>1</th>\n",
       "      <td>80.23</td>\n",
       "      <td>31</td>\n",
       "      <td>479092950.0</td>\n",
       "      <td>193.77</td>\n",
       "      <td>Laki-Laki</td>\n",
       "      <td>4/4/2016 1:39</td>\n",
       "      <td>No</td>\n",
       "      <td>Denpasar</td>\n",
       "      <td>Bali</td>\n",
       "      <td>Food</td>\n",
       "    </tr>\n",
       "    <tr>\n",
       "      <th>2</th>\n",
       "      <td>69.47</td>\n",
       "      <td>26</td>\n",
       "      <td>418501580.0</td>\n",
       "      <td>236.50</td>\n",
       "      <td>Perempuan</td>\n",
       "      <td>3/13/2016 20:35</td>\n",
       "      <td>No</td>\n",
       "      <td>Surabaya</td>\n",
       "      <td>Jawa Timur</td>\n",
       "      <td>Electronic</td>\n",
       "    </tr>\n",
       "    <tr>\n",
       "      <th>3</th>\n",
       "      <td>74.15</td>\n",
       "      <td>29</td>\n",
       "      <td>383643260.0</td>\n",
       "      <td>245.89</td>\n",
       "      <td>Laki-Laki</td>\n",
       "      <td>1/10/2016 2:31</td>\n",
       "      <td>No</td>\n",
       "      <td>Batam</td>\n",
       "      <td>Kepulauan Riau</td>\n",
       "      <td>House</td>\n",
       "    </tr>\n",
       "    <tr>\n",
       "      <th>4</th>\n",
       "      <td>68.37</td>\n",
       "      <td>35</td>\n",
       "      <td>517229930.0</td>\n",
       "      <td>225.58</td>\n",
       "      <td>Perempuan</td>\n",
       "      <td>6/3/2016 3:36</td>\n",
       "      <td>No</td>\n",
       "      <td>Medan</td>\n",
       "      <td>Sumatra Utara</td>\n",
       "      <td>Finance</td>\n",
       "    </tr>\n",
       "  </tbody>\n",
       "</table>\n",
       "</div>"
      ],
      "text/plain": [
       "   Daily Time Spent on Site  Age  Area Income  Daily Internet Usage  \\\n",
       "0                     68.95   35  432837300.0                256.09   \n",
       "1                     80.23   31  479092950.0                193.77   \n",
       "2                     69.47   26  418501580.0                236.50   \n",
       "3                     74.15   29  383643260.0                245.89   \n",
       "4                     68.37   35  517229930.0                225.58   \n",
       "\n",
       "        Male        Timestamp Clicked on Ad           city  \\\n",
       "0  Perempuan   3/27/2016 0:53            No  Jakarta Timur   \n",
       "1  Laki-Laki    4/4/2016 1:39            No       Denpasar   \n",
       "2  Perempuan  3/13/2016 20:35            No       Surabaya   \n",
       "3  Laki-Laki   1/10/2016 2:31            No          Batam   \n",
       "4  Perempuan    6/3/2016 3:36            No          Medan   \n",
       "\n",
       "                        province    category  \n",
       "0  Daerah Khusus Ibukota Jakarta   Furniture  \n",
       "1                           Bali        Food  \n",
       "2                     Jawa Timur  Electronic  \n",
       "3                 Kepulauan Riau       House  \n",
       "4                  Sumatra Utara     Finance  "
      ]
     },
     "execution_count": 6,
     "metadata": {},
     "output_type": "execute_result"
    }
   ],
   "source": [
    "df = df.drop(['Unnamed: 0'], axis=1)\n",
    "df.head()"
   ]
  },
  {
   "cell_type": "markdown",
   "id": "a2df0033",
   "metadata": {
    "id": "a2df0033"
   },
   "source": [
    "### Data Types"
   ]
  },
  {
   "cell_type": "code",
   "execution_count": 7,
   "id": "bbb9756c",
   "metadata": {
    "id": "bbb9756c",
    "outputId": "e42a60a2-4f0a-439f-8d0f-21d03ef32100"
   },
   "outputs": [
    {
     "name": "stdout",
     "output_type": "stream",
     "text": [
      "<class 'pandas.core.frame.DataFrame'>\n",
      "RangeIndex: 1000 entries, 0 to 999\n",
      "Data columns (total 10 columns):\n",
      " #   Column                    Non-Null Count  Dtype  \n",
      "---  ------                    --------------  -----  \n",
      " 0   Daily Time Spent on Site  987 non-null    float64\n",
      " 1   Age                       1000 non-null   int64  \n",
      " 2   Area Income               987 non-null    float64\n",
      " 3   Daily Internet Usage      989 non-null    float64\n",
      " 4   Male                      997 non-null    object \n",
      " 5   Timestamp                 1000 non-null   object \n",
      " 6   Clicked on Ad             1000 non-null   object \n",
      " 7   city                      1000 non-null   object \n",
      " 8   province                  1000 non-null   object \n",
      " 9   category                  1000 non-null   object \n",
      "dtypes: float64(3), int64(1), object(6)\n",
      "memory usage: 78.2+ KB\n"
     ]
    }
   ],
   "source": [
    "df.info()"
   ]
  },
  {
   "cell_type": "markdown",
   "id": "c9b70ff9",
   "metadata": {
    "id": "c9b70ff9"
   },
   "source": [
    "### Statistics Descriptive"
   ]
  },
  {
   "cell_type": "code",
   "execution_count": 8,
   "id": "b752a4c4",
   "metadata": {
    "id": "b752a4c4",
    "outputId": "9c85e097-2759-4e4c-d332-18037db96e31"
   },
   "outputs": [
    {
     "data": {
      "text/html": [
       "<div>\n",
       "<style scoped>\n",
       "    .dataframe tbody tr th:only-of-type {\n",
       "        vertical-align: middle;\n",
       "    }\n",
       "\n",
       "    .dataframe tbody tr th {\n",
       "        vertical-align: top;\n",
       "    }\n",
       "\n",
       "    .dataframe thead th {\n",
       "        text-align: right;\n",
       "    }\n",
       "</style>\n",
       "<table border=\"1\" class=\"dataframe\">\n",
       "  <thead>\n",
       "    <tr style=\"text-align: right;\">\n",
       "      <th></th>\n",
       "      <th>Daily Time Spent on Site</th>\n",
       "      <th>Age</th>\n",
       "      <th>Area Income</th>\n",
       "      <th>Daily Internet Usage</th>\n",
       "    </tr>\n",
       "  </thead>\n",
       "  <tbody>\n",
       "    <tr>\n",
       "      <th>count</th>\n",
       "      <td>987.000000</td>\n",
       "      <td>1000.000000</td>\n",
       "      <td>9.870000e+02</td>\n",
       "      <td>989.000000</td>\n",
       "    </tr>\n",
       "    <tr>\n",
       "      <th>mean</th>\n",
       "      <td>64.929524</td>\n",
       "      <td>36.009000</td>\n",
       "      <td>3.848647e+08</td>\n",
       "      <td>179.863620</td>\n",
       "    </tr>\n",
       "    <tr>\n",
       "      <th>std</th>\n",
       "      <td>15.844699</td>\n",
       "      <td>8.785562</td>\n",
       "      <td>9.407999e+07</td>\n",
       "      <td>43.870142</td>\n",
       "    </tr>\n",
       "    <tr>\n",
       "      <th>min</th>\n",
       "      <td>32.600000</td>\n",
       "      <td>19.000000</td>\n",
       "      <td>9.797550e+07</td>\n",
       "      <td>104.780000</td>\n",
       "    </tr>\n",
       "    <tr>\n",
       "      <th>25%</th>\n",
       "      <td>51.270000</td>\n",
       "      <td>29.000000</td>\n",
       "      <td>3.286330e+08</td>\n",
       "      <td>138.710000</td>\n",
       "    </tr>\n",
       "    <tr>\n",
       "      <th>50%</th>\n",
       "      <td>68.110000</td>\n",
       "      <td>35.000000</td>\n",
       "      <td>3.990683e+08</td>\n",
       "      <td>182.650000</td>\n",
       "    </tr>\n",
       "    <tr>\n",
       "      <th>75%</th>\n",
       "      <td>78.460000</td>\n",
       "      <td>42.000000</td>\n",
       "      <td>4.583554e+08</td>\n",
       "      <td>218.790000</td>\n",
       "    </tr>\n",
       "    <tr>\n",
       "      <th>max</th>\n",
       "      <td>91.430000</td>\n",
       "      <td>61.000000</td>\n",
       "      <td>5.563936e+08</td>\n",
       "      <td>267.010000</td>\n",
       "    </tr>\n",
       "  </tbody>\n",
       "</table>\n",
       "</div>"
      ],
      "text/plain": [
       "       Daily Time Spent on Site          Age   Area Income  \\\n",
       "count                987.000000  1000.000000  9.870000e+02   \n",
       "mean                  64.929524    36.009000  3.848647e+08   \n",
       "std                   15.844699     8.785562  9.407999e+07   \n",
       "min                   32.600000    19.000000  9.797550e+07   \n",
       "25%                   51.270000    29.000000  3.286330e+08   \n",
       "50%                   68.110000    35.000000  3.990683e+08   \n",
       "75%                   78.460000    42.000000  4.583554e+08   \n",
       "max                   91.430000    61.000000  5.563936e+08   \n",
       "\n",
       "       Daily Internet Usage  \n",
       "count            989.000000  \n",
       "mean             179.863620  \n",
       "std               43.870142  \n",
       "min              104.780000  \n",
       "25%              138.710000  \n",
       "50%              182.650000  \n",
       "75%              218.790000  \n",
       "max              267.010000  "
      ]
     },
     "execution_count": 8,
     "metadata": {},
     "output_type": "execute_result"
    }
   ],
   "source": [
    "df.describe()"
   ]
  },
  {
   "cell_type": "code",
   "execution_count": 9,
   "id": "74b07694",
   "metadata": {
    "id": "74b07694",
    "outputId": "e3122480-aba3-45b2-cdad-071ed4b0652d"
   },
   "outputs": [
    {
     "data": {
      "text/html": [
       "<div>\n",
       "<style scoped>\n",
       "    .dataframe tbody tr th:only-of-type {\n",
       "        vertical-align: middle;\n",
       "    }\n",
       "\n",
       "    .dataframe tbody tr th {\n",
       "        vertical-align: top;\n",
       "    }\n",
       "\n",
       "    .dataframe thead th {\n",
       "        text-align: right;\n",
       "    }\n",
       "</style>\n",
       "<table border=\"1\" class=\"dataframe\">\n",
       "  <thead>\n",
       "    <tr style=\"text-align: right;\">\n",
       "      <th></th>\n",
       "      <th>Male</th>\n",
       "      <th>Timestamp</th>\n",
       "      <th>Clicked on Ad</th>\n",
       "      <th>city</th>\n",
       "      <th>province</th>\n",
       "      <th>category</th>\n",
       "    </tr>\n",
       "  </thead>\n",
       "  <tbody>\n",
       "    <tr>\n",
       "      <th>count</th>\n",
       "      <td>997</td>\n",
       "      <td>1000</td>\n",
       "      <td>1000</td>\n",
       "      <td>1000</td>\n",
       "      <td>1000</td>\n",
       "      <td>1000</td>\n",
       "    </tr>\n",
       "    <tr>\n",
       "      <th>unique</th>\n",
       "      <td>2</td>\n",
       "      <td>997</td>\n",
       "      <td>2</td>\n",
       "      <td>30</td>\n",
       "      <td>16</td>\n",
       "      <td>10</td>\n",
       "    </tr>\n",
       "    <tr>\n",
       "      <th>top</th>\n",
       "      <td>Perempuan</td>\n",
       "      <td>5/26/2016 15:40</td>\n",
       "      <td>No</td>\n",
       "      <td>Surabaya</td>\n",
       "      <td>Daerah Khusus Ibukota Jakarta</td>\n",
       "      <td>Otomotif</td>\n",
       "    </tr>\n",
       "    <tr>\n",
       "      <th>freq</th>\n",
       "      <td>518</td>\n",
       "      <td>2</td>\n",
       "      <td>500</td>\n",
       "      <td>64</td>\n",
       "      <td>253</td>\n",
       "      <td>112</td>\n",
       "    </tr>\n",
       "  </tbody>\n",
       "</table>\n",
       "</div>"
      ],
      "text/plain": [
       "             Male        Timestamp Clicked on Ad      city  \\\n",
       "count         997             1000          1000      1000   \n",
       "unique          2              997             2        30   \n",
       "top     Perempuan  5/26/2016 15:40            No  Surabaya   \n",
       "freq          518                2           500        64   \n",
       "\n",
       "                             province  category  \n",
       "count                            1000      1000  \n",
       "unique                             16        10  \n",
       "top     Daerah Khusus Ibukota Jakarta  Otomotif  \n",
       "freq                              253       112  "
      ]
     },
     "execution_count": 9,
     "metadata": {},
     "output_type": "execute_result"
    }
   ],
   "source": [
    "df.select_dtypes('object').describe()"
   ]
  },
  {
   "cell_type": "markdown",
   "id": "5bacf799",
   "metadata": {
    "id": "5bacf799"
   },
   "source": [
    "### Exploratory Data Analysis"
   ]
  },
  {
   "cell_type": "markdown",
   "id": "5be60b32",
   "metadata": {
    "id": "5be60b32",
    "tags": []
   },
   "source": [
    "### Clicked on Ad Distribution"
   ]
  },
  {
   "cell_type": "code",
   "execution_count": 10,
   "id": "4867092e",
   "metadata": {
    "id": "4867092e",
    "outputId": "81171230-b07a-4053-dd9b-e0d2e562da57"
   },
   "outputs": [
    {
     "data": {
      "image/png": "[encoded data removed]",
      "text/plain": [
       "<Figure size 576x504 with 1 Axes>"
      ]
     },
     "metadata": {
      "needs_background": "light"
     },
     "output_type": "display_data"
    }
   ],
   "source": [
    "counts = df['Clicked on Ad'].value_counts()\n",
    "\n",
    "plt.figure(figsize=(8,7))\n",
    "\n",
    "sns.barplot(x=counts.index,y=counts)\n",
    "\n",
    "plt.suptitle('Clicked User Distribution')\n",
    "plt.title('Target has balanced class')\n",
    "plt.ylim(0,550)\n",
    "plt.show()"
   ]
  },
  {
   "cell_type": "markdown",
   "id": "61cdff28-f014-46c6-a243-88f86e646ec1",
   "metadata": {
    "id": "61cdff28-f014-46c6-a243-88f86e646ec1"
   },
   "source": [
    "The data we will use turns out to have enough balanced labels that we don't need to do preprocessing to overcome the imbalanced class."
   ]
  },
  {
   "cell_type": "markdown",
   "id": "60c3a9f1",
   "metadata": {
    "id": "60c3a9f1"
   },
   "source": [
    "### Daily Internet Usage"
   ]
  },
  {
   "cell_type": "code",
   "execution_count": 11,
   "id": "068a0da3",
   "metadata": {
    "id": "068a0da3"
   },
   "outputs": [],
   "source": [
    "yes = df[df['Clicked on Ad'] == 'Yes']\n",
    "no = df[df['Clicked on Ad'] == 'No']"
   ]
  },
  {
   "cell_type": "code",
   "execution_count": 12,
   "id": "d3177990",
   "metadata": {
    "id": "d3177990",
    "outputId": "6b34681d-89d2-436b-f1a6-b90dcab40b4d"
   },
   "outputs": [
    {
     "data": {
      "image/png": "[encoded data removed]",
      "text/plain": [
       "<Figure size 504x432 with 1 Axes>"
      ]
     },
     "metadata": {
      "needs_background": "light"
     },
     "output_type": "display_data"
    }
   ],
   "source": [
    "plt.figure(figsize=(7,6))\n",
    "\n",
    "sns.kdeplot(no['Daily Internet Usage'],label='No', color='#209D5C', fill=True)\n",
    "sns.kdeplot(yes['Daily Internet Usage'],label='Yes', color='#FFD034', fill=True)\n",
    "\n",
    "plt.title('Density Distribution for Daily Internet Usage')\n",
    "plt.legend()\n",
    "plt.show()"
   ]
  },
  {
   "cell_type": "markdown",
   "id": "95706505-def9-42c0-82e3-e56ece5c9dc7",
   "metadata": {
    "id": "95706505-def9-42c0-82e3-e56ece5c9dc7"
   },
   "source": [
    "From the EDA above, we can see the distribution of daily internet usage (in minutes). There is something interesting in the following distribution. That the potential for users to click on a product is higher for users who rarely use the internet than those who often use the internet. \n",
    "\n",
    "This could indicate that users who rarely use the internet tend to pay more attention to advertisements on a website."
   ]
  },
  {
   "cell_type": "markdown",
   "id": "f3c244d9",
   "metadata": {
    "id": "f3c244d9"
   },
   "source": [
    "### Daily Time Spent on Site"
   ]
  },
  {
   "cell_type": "code",
   "execution_count": 13,
   "id": "b56a56fc",
   "metadata": {
    "id": "b56a56fc",
    "outputId": "ca6cb212-1825-4396-c0cf-7339e515b570"
   },
   "outputs": [
    {
     "data": {
      "image/png": "[encoded data removed]",
      "text/plain": [
       "<Figure size 504x432 with 1 Axes>"
      ]
     },
     "metadata": {
      "needs_background": "light"
     },
     "output_type": "display_data"
    }
   ],
   "source": [
    "plt.figure(figsize=(7,6))\n",
    "\n",
    "colors = [\"#2B70E4\", \"#209D5C\"]\n",
    "customPalette = sns.set_palette(sns.color_palette(colors))\n",
    "sns.boxplot(x=df['Clicked on Ad'],y=df['Daily Time Spent on Site'], palette=customPalette)\n",
    "\n",
    "plt.title('Density Distribution for Daily Time Spent on Site')\n",
    "plt.show()"
   ]
  },
  {
   "cell_type": "markdown",
   "id": "91556e8e-6028-40e1-9a0c-9d7b6d5d9793",
   "metadata": {
    "id": "91556e8e-6028-40e1-9a0c-9d7b6d5d9793"
   },
   "source": [
    "Because internet usage has a distinct distribution. We want to demonstrate how a person's behavior on a website. Based on the EDA, it appears that internet usage and user duration on a website have a similar distribution. That is, potential users can be located even when only briefly browsing a website."
   ]
  },
  {
   "cell_type": "markdown",
   "id": "d7bb3c41",
   "metadata": {
    "id": "d7bb3c41"
   },
   "source": [
    "### Age"
   ]
  },
  {
   "cell_type": "code",
   "execution_count": 14,
   "id": "114a5380",
   "metadata": {
    "id": "114a5380",
    "outputId": "ad176e39-affc-4b57-9564-d5637861826c"
   },
   "outputs": [
    {
     "data": {
      "image/png": "[encoded data removed]",
      "text/plain": [
       "<Figure size 504x432 with 1 Axes>"
      ]
     },
     "metadata": {
      "needs_background": "light"
     },
     "output_type": "display_data"
    }
   ],
   "source": [
    "plt.figure(figsize=(7,6))\n",
    "\n",
    "sns.kdeplot(no['Age'],label='No',color='#2B70E4', fill=True)\n",
    "sns.kdeplot(yes['Age'],label='Yes', color='#209D5C', fill=True)\n",
    "\n",
    "plt.title('Density Distribution for Age')\n",
    "plt.legend()\n",
    "plt.show()"
   ]
  },
  {
   "cell_type": "markdown",
   "id": "0b97f602-1e94-4bf0-b002-ab16dcc9d184",
   "metadata": {
    "id": "0b97f602-1e94-4bf0-b002-ab16dcc9d184"
   },
   "source": [
    "According to the visualization of age, the potential market is actually found among older adults. Perhaps because young people are more cautious and picky while using the internet. And young people are quite aware when adverts appear on a website."
   ]
  },
  {
   "cell_type": "markdown",
   "id": "6caf4c3b",
   "metadata": {
    "id": "6caf4c3b"
   },
   "source": [
    "### Internet Usage vs Time Spent on Site"
   ]
  },
  {
   "cell_type": "code",
   "execution_count": 15,
   "id": "989861dc",
   "metadata": {
    "id": "989861dc",
    "outputId": "a5c8e306-9e30-4090-9038-bc484fe2e120"
   },
   "outputs": [
    {
     "data": {
      "image/png": "[encoded data removed]",
      "text/plain": [
       "<Figure size 576x504 with 1 Axes>"
      ]
     },
     "metadata": {
      "needs_background": "light"
     },
     "output_type": "display_data"
    }
   ],
   "source": [
    "plt.figure(figsize=(8,7))\n",
    "\n",
    "colors = [\"#2B70E4\", \"#209D5C\"]\n",
    "customPalette = sns.set_palette(sns.color_palette(colors))\n",
    "sns.scatterplot(x=df['Daily Internet Usage'],y=df['Daily Time Spent on Site'],hue=df['Clicked on Ad'], palette=customPalette)\n",
    "\n",
    "plt.title('Internet Usage vs Time Spent on Site')\n",
    "plt.show()"
   ]
  },
  {
   "cell_type": "markdown",
   "id": "87079702-dffe-4825-b791-f910774d6423",
   "metadata": {
    "id": "87079702-dffe-4825-b791-f910774d6423"
   },
   "source": [
    "After recognizing the relationship between internet consumption and the length of a website visit. We try to figure out what the connection is between these two traits and their goals.\n",
    "\n",
    "According to the plot, internet usage and the length of a site visit can be separated into two groups: active users and non-active users.\n",
    "\n",
    "These two segments can be a feature that is quite close to whether or not someone will click on an ad. The visualization above shows that active users are less likely than non-active users to click on an ad.\n",
    "\n",
    "Finally, we can tailor our advertising system to consumers who are not actively utilizing the internet."
   ]
  },
  {
   "cell_type": "code",
   "execution_count": 16,
   "id": "72348c07-773e-4e35-9780-3e29e3821531",
   "metadata": {},
   "outputs": [
    {
     "data": {
      "text/html": [
       "<div>\n",
       "<style scoped>\n",
       "    .dataframe tbody tr th:only-of-type {\n",
       "        vertical-align: middle;\n",
       "    }\n",
       "\n",
       "    .dataframe tbody tr th {\n",
       "        vertical-align: top;\n",
       "    }\n",
       "\n",
       "    .dataframe thead th {\n",
       "        text-align: right;\n",
       "    }\n",
       "</style>\n",
       "<table border=\"1\" class=\"dataframe\">\n",
       "  <thead>\n",
       "    <tr style=\"text-align: right;\">\n",
       "      <th></th>\n",
       "      <th>Daily Time Spent on Site</th>\n",
       "      <th>Age</th>\n",
       "      <th>Area Income</th>\n",
       "      <th>Daily Internet Usage</th>\n",
       "      <th>Male</th>\n",
       "      <th>Timestamp</th>\n",
       "      <th>Clicked on Ad</th>\n",
       "      <th>city</th>\n",
       "      <th>province</th>\n",
       "      <th>category</th>\n",
       "    </tr>\n",
       "  </thead>\n",
       "  <tbody>\n",
       "    <tr>\n",
       "      <th>0</th>\n",
       "      <td>68.95</td>\n",
       "      <td>35</td>\n",
       "      <td>432837300.0</td>\n",
       "      <td>256.09</td>\n",
       "      <td>Perempuan</td>\n",
       "      <td>3/27/2016 0:53</td>\n",
       "      <td>No</td>\n",
       "      <td>Jakarta Timur</td>\n",
       "      <td>Daerah Khusus Ibukota Jakarta</td>\n",
       "      <td>Furniture</td>\n",
       "    </tr>\n",
       "    <tr>\n",
       "      <th>1</th>\n",
       "      <td>80.23</td>\n",
       "      <td>31</td>\n",
       "      <td>479092950.0</td>\n",
       "      <td>193.77</td>\n",
       "      <td>Laki-Laki</td>\n",
       "      <td>4/4/2016 1:39</td>\n",
       "      <td>No</td>\n",
       "      <td>Denpasar</td>\n",
       "      <td>Bali</td>\n",
       "      <td>Food</td>\n",
       "    </tr>\n",
       "    <tr>\n",
       "      <th>2</th>\n",
       "      <td>69.47</td>\n",
       "      <td>26</td>\n",
       "      <td>418501580.0</td>\n",
       "      <td>236.50</td>\n",
       "      <td>Perempuan</td>\n",
       "      <td>3/13/2016 20:35</td>\n",
       "      <td>No</td>\n",
       "      <td>Surabaya</td>\n",
       "      <td>Jawa Timur</td>\n",
       "      <td>Electronic</td>\n",
       "    </tr>\n",
       "    <tr>\n",
       "      <th>3</th>\n",
       "      <td>74.15</td>\n",
       "      <td>29</td>\n",
       "      <td>383643260.0</td>\n",
       "      <td>245.89</td>\n",
       "      <td>Laki-Laki</td>\n",
       "      <td>1/10/2016 2:31</td>\n",
       "      <td>No</td>\n",
       "      <td>Batam</td>\n",
       "      <td>Kepulauan Riau</td>\n",
       "      <td>House</td>\n",
       "    </tr>\n",
       "    <tr>\n",
       "      <th>4</th>\n",
       "      <td>68.37</td>\n",
       "      <td>35</td>\n",
       "      <td>517229930.0</td>\n",
       "      <td>225.58</td>\n",
       "      <td>Perempuan</td>\n",
       "      <td>6/3/2016 3:36</td>\n",
       "      <td>No</td>\n",
       "      <td>Medan</td>\n",
       "      <td>Sumatra Utara</td>\n",
       "      <td>Finance</td>\n",
       "    </tr>\n",
       "  </tbody>\n",
       "</table>\n",
       "</div>"
      ],
      "text/plain": [
       "   Daily Time Spent on Site  Age  Area Income  Daily Internet Usage  \\\n",
       "0                     68.95   35  432837300.0                256.09   \n",
       "1                     80.23   31  479092950.0                193.77   \n",
       "2                     69.47   26  418501580.0                236.50   \n",
       "3                     74.15   29  383643260.0                245.89   \n",
       "4                     68.37   35  517229930.0                225.58   \n",
       "\n",
       "        Male        Timestamp Clicked on Ad           city  \\\n",
       "0  Perempuan   3/27/2016 0:53            No  Jakarta Timur   \n",
       "1  Laki-Laki    4/4/2016 1:39            No       Denpasar   \n",
       "2  Perempuan  3/13/2016 20:35            No       Surabaya   \n",
       "3  Laki-Laki   1/10/2016 2:31            No          Batam   \n",
       "4  Perempuan    6/3/2016 3:36            No          Medan   \n",
       "\n",
       "                        province    category  \n",
       "0  Daerah Khusus Ibukota Jakarta   Furniture  \n",
       "1                           Bali        Food  \n",
       "2                     Jawa Timur  Electronic  \n",
       "3                 Kepulauan Riau       House  \n",
       "4                  Sumatra Utara     Finance  "
      ]
     },
     "execution_count": 16,
     "metadata": {},
     "output_type": "execute_result"
    }
   ],
   "source": [
    "df.head()"
   ]
  },
  {
   "cell_type": "code",
   "execution_count": 17,
   "id": "6e2c48ef-122c-40f3-91ba-4c8270326de5",
   "metadata": {},
   "outputs": [
    {
     "data": {
      "text/html": [
       "<div>\n",
       "<style scoped>\n",
       "    .dataframe tbody tr th:only-of-type {\n",
       "        vertical-align: middle;\n",
       "    }\n",
       "\n",
       "    .dataframe tbody tr th {\n",
       "        vertical-align: top;\n",
       "    }\n",
       "\n",
       "    .dataframe thead th {\n",
       "        text-align: right;\n",
       "    }\n",
       "</style>\n",
       "<table border=\"1\" class=\"dataframe\">\n",
       "  <thead>\n",
       "    <tr style=\"text-align: right;\">\n",
       "      <th></th>\n",
       "      <th>Daily Time Spent on Site</th>\n",
       "      <th>Age</th>\n",
       "      <th>Area Income</th>\n",
       "      <th>Daily Internet Usage</th>\n",
       "      <th>Male</th>\n",
       "      <th>Timestamp</th>\n",
       "      <th>Clicked on Ad</th>\n",
       "      <th>city</th>\n",
       "      <th>province</th>\n",
       "      <th>category</th>\n",
       "    </tr>\n",
       "  </thead>\n",
       "  <tbody>\n",
       "    <tr>\n",
       "      <th>0</th>\n",
       "      <td>68.95</td>\n",
       "      <td>35</td>\n",
       "      <td>432837300.0</td>\n",
       "      <td>256.09</td>\n",
       "      <td>Perempuan</td>\n",
       "      <td>3/27/2016 0:53</td>\n",
       "      <td>No</td>\n",
       "      <td>Jakarta Timur</td>\n",
       "      <td>Daerah Khusus Ibukota Jakarta</td>\n",
       "      <td>Furniture</td>\n",
       "    </tr>\n",
       "    <tr>\n",
       "      <th>1</th>\n",
       "      <td>80.23</td>\n",
       "      <td>31</td>\n",
       "      <td>479092950.0</td>\n",
       "      <td>193.77</td>\n",
       "      <td>Laki-Laki</td>\n",
       "      <td>4/4/2016 1:39</td>\n",
       "      <td>No</td>\n",
       "      <td>Denpasar</td>\n",
       "      <td>Bali</td>\n",
       "      <td>Food</td>\n",
       "    </tr>\n",
       "    <tr>\n",
       "      <th>2</th>\n",
       "      <td>69.47</td>\n",
       "      <td>26</td>\n",
       "      <td>418501580.0</td>\n",
       "      <td>236.50</td>\n",
       "      <td>Perempuan</td>\n",
       "      <td>3/13/2016 20:35</td>\n",
       "      <td>No</td>\n",
       "      <td>Surabaya</td>\n",
       "      <td>Jawa Timur</td>\n",
       "      <td>Electronic</td>\n",
       "    </tr>\n",
       "    <tr>\n",
       "      <th>3</th>\n",
       "      <td>74.15</td>\n",
       "      <td>29</td>\n",
       "      <td>383643260.0</td>\n",
       "      <td>245.89</td>\n",
       "      <td>Laki-Laki</td>\n",
       "      <td>1/10/2016 2:31</td>\n",
       "      <td>No</td>\n",
       "      <td>Batam</td>\n",
       "      <td>Kepulauan Riau</td>\n",
       "      <td>House</td>\n",
       "    </tr>\n",
       "    <tr>\n",
       "      <th>4</th>\n",
       "      <td>68.37</td>\n",
       "      <td>35</td>\n",
       "      <td>517229930.0</td>\n",
       "      <td>225.58</td>\n",
       "      <td>Perempuan</td>\n",
       "      <td>6/3/2016 3:36</td>\n",
       "      <td>No</td>\n",
       "      <td>Medan</td>\n",
       "      <td>Sumatra Utara</td>\n",
       "      <td>Finance</td>\n",
       "    </tr>\n",
       "  </tbody>\n",
       "</table>\n",
       "</div>"
      ],
      "text/plain": [
       "   Daily Time Spent on Site  Age  Area Income  Daily Internet Usage  \\\n",
       "0                     68.95   35  432837300.0                256.09   \n",
       "1                     80.23   31  479092950.0                193.77   \n",
       "2                     69.47   26  418501580.0                236.50   \n",
       "3                     74.15   29  383643260.0                245.89   \n",
       "4                     68.37   35  517229930.0                225.58   \n",
       "\n",
       "        Male        Timestamp Clicked on Ad           city  \\\n",
       "0  Perempuan   3/27/2016 0:53            No  Jakarta Timur   \n",
       "1  Laki-Laki    4/4/2016 1:39            No       Denpasar   \n",
       "2  Perempuan  3/13/2016 20:35            No       Surabaya   \n",
       "3  Laki-Laki   1/10/2016 2:31            No          Batam   \n",
       "4  Perempuan    6/3/2016 3:36            No          Medan   \n",
       "\n",
       "                        province    category  \n",
       "0  Daerah Khusus Ibukota Jakarta   Furniture  \n",
       "1                           Bali        Food  \n",
       "2                     Jawa Timur  Electronic  \n",
       "3                 Kepulauan Riau       House  \n",
       "4                  Sumatra Utara     Finance  "
      ]
     },
     "execution_count": 17,
     "metadata": {},
     "output_type": "execute_result"
    }
   ],
   "source": [
    "df.head()"
   ]
  },
  {
   "cell_type": "markdown",
   "id": "b2d30893",
   "metadata": {
    "id": "b2d30893"
   },
   "source": [
    "### Correlation"
   ]
  },
  {
   "cell_type": "code",
   "execution_count": 18,
   "id": "986c7ceb",
   "metadata": {},
   "outputs": [
    {
     "data": {
      "image/png": "[encoded data removed]",
      "text/plain": [
       "<Figure size 936x720 with 2 Axes>"
      ]
     },
     "metadata": {
      "needs_background": "light"
     },
     "output_type": "display_data"
    }
   ],
   "source": [
    "plt.figure(figsize=(13,10))\n",
    "sns.heatmap(df.corr(),annot=True,cmap=\"YlGnBu\")\n",
    "plt.title('Correlation Between Features')\n",
    "plt.show()"
   ]
  },
  {
   "cell_type": "markdown",
   "id": "7a7552cc-75f4-48d3-b006-e4d495a0030e",
   "metadata": {
    "id": "7a7552cc-75f4-48d3-b006-e4d495a0030e"
   },
   "source": [
    "We discover no multicorrelation (correlation between variables) in the correlation above, so we may utilize all characteristics for modeling. However, Pearson correlation cannot tell us anything about the link between the feature and the target. So, in the following section, we will calculate the link between features and their targets using **PPS (Predictive Power Score)**."
   ]
  },
  {
   "cell_type": "markdown",
   "id": "378d3899",
   "metadata": {
    "id": "378d3899"
   },
   "source": [
    "### Correlation Using PPScore"
   ]
  },
  {
   "cell_type": "code",
   "execution_count": 19,
   "id": "ea37d5e7",
   "metadata": {
    "id": "ea37d5e7"
   },
   "outputs": [],
   "source": [
    "df_pps = pps.matrix(df)\n",
    "matrix_df = df_pps[['x', 'y', 'ppscore']].pivot(columns='x', index='y', values='ppscore')"
   ]
  },
  {
   "cell_type": "code",
   "execution_count": 20,
   "id": "a4d16ab4",
   "metadata": {
    "id": "a4d16ab4",
    "outputId": "4e4e763b-bfd6-4da2-f3cf-499f85be343d"
   },
   "outputs": [
    {
     "data": {
      "image/png": "[encoded data removed]",
      "text/plain": [
       "<Figure size 1080x792 with 2 Axes>"
      ]
     },
     "metadata": {
      "needs_background": "light"
     },
     "output_type": "display_data"
    }
   ],
   "source": [
    "plt.figure(figsize=(15,11))\n",
    "sns.heatmap(matrix_df, vmin=0, vmax=1, cmap=\"YlGnBu\", linewidths=0.5, annot=True)\n",
    "plt.title('Correlation Using PPS (Predictive Power Score)')\n",
    "plt.xlabel(None)\n",
    "plt.ylabel(None)\n",
    "plt.show()"
   ]
  },
  {
   "cell_type": "markdown",
   "id": "0ea0eae7-082d-4433-a9d2-0efe0bae8506",
   "metadata": {
    "id": "0ea0eae7-082d-4433-a9d2-0efe0bae8506"
   },
   "source": [
    "Based on the correlation plot created with PPS, we will simply look at the 'Clicked on Ad' feature. Because that variable will be our objective.\n",
    "\n",
    "The feature is quite related to the target:\n",
    "- Daily Internet Usage\n",
    "- Daily Time Spent on Site\n",
    "- Age\n",
    "- Area Income\n",
    "\n",
    "This correlation plot can be used as a guide for modeling."
   ]
  },
  {
   "cell_type": "markdown",
   "id": "0729762a",
   "metadata": {
    "id": "0729762a",
    "jp-MarkdownHeadingCollapsed": true,
    "tags": []
   },
   "source": [
    "## Data Cleaning & Preprocessing"
   ]
  },
  {
   "cell_type": "markdown",
   "id": "fI4Nxt7-7f-o",
   "metadata": {
    "id": "fI4Nxt7-7f-o"
   },
   "source": [
    "In the case of data preprocessing, clean data is required so that it can be applied to various machine learning models.\n",
    "\n",
    "The steps that we must complete are as follows:\n",
    "1. Handle Missing Value\n",
    "2. Extract Datetime Data\n",
    "3. Split Target and features\n",
    "4. Create One-hot encoding for feature category"
   ]
  },
  {
   "cell_type": "markdown",
   "id": "54089b07",
   "metadata": {
    "id": "54089b07"
   },
   "source": [
    "### Handle Missing Value"
   ]
  },
  {
   "cell_type": "code",
   "execution_count": 21,
   "id": "67f5cbed",
   "metadata": {
    "id": "67f5cbed"
   },
   "outputs": [],
   "source": [
    "df['Daily Time Spent on Site'].fillna(df['Daily Time Spent on Site'].mean(),inplace=True)\n",
    "df['Area Income'].fillna(df['Area Income'].mean(),inplace=True)\n",
    "df['Daily Internet Usage'].fillna(df['Daily Internet Usage'].mean(),inplace=True)\n",
    "df['Male'].fillna(df['Male'].mode()[0],inplace=True)"
   ]
  },
  {
   "cell_type": "markdown",
   "id": "0226f92f",
   "metadata": {
    "id": "0226f92f"
   },
   "source": [
    "### Extract Datetime Data"
   ]
  },
  {
   "cell_type": "code",
   "execution_count": 22,
   "id": "7b84ae51",
   "metadata": {
    "id": "7b84ae51"
   },
   "outputs": [],
   "source": [
    "df['day_of_week'] = df['Timestamp'].apply(extract_day_of_week)\n",
    "df['day_of_month'] = df['Timestamp'].apply(extract_day_of_month)\n",
    "df['month'] = df['Timestamp'].apply(extract_month)\n",
    "\n",
    "df = df.drop(labels=['Timestamp'],axis=1)"
   ]
  },
  {
   "cell_type": "code",
   "execution_count": 23,
   "id": "bf57780c",
   "metadata": {
    "id": "bf57780c"
   },
   "outputs": [],
   "source": [
    "counts = df.groupby(['day_of_week','Clicked on Ad'],as_index=False).size()"
   ]
  },
  {
   "cell_type": "markdown",
   "id": "3ff0f19c",
   "metadata": {
    "id": "3ff0f19c"
   },
   "source": [
    "### Split Target and Features "
   ]
  },
  {
   "cell_type": "code",
   "execution_count": 24,
   "id": "b1cef44c",
   "metadata": {
    "id": "b1cef44c"
   },
   "outputs": [],
   "source": [
    "X = df.drop(labels=['Clicked on Ad'],axis=1)\n",
    "y = np.where(df['Clicked on Ad']=='No',0,1)"
   ]
  },
  {
   "cell_type": "markdown",
   "id": "dfdee170",
   "metadata": {
    "id": "dfdee170"
   },
   "source": [
    "### Get Dummies for All Categorical Features"
   ]
  },
  {
   "cell_type": "code",
   "execution_count": 25,
   "id": "7fec5c50",
   "metadata": {
    "id": "7fec5c50"
   },
   "outputs": [],
   "source": [
    "X_dummy = pd.get_dummies(X)"
   ]
  },
  {
   "cell_type": "markdown",
   "id": "dd3a681f",
   "metadata": {
    "id": "dd3a681f",
    "tags": []
   },
   "source": [
    "## Data Modeling"
   ]
  },
  {
   "cell_type": "markdown",
   "id": "O9_i9diq8TZi",
   "metadata": {
    "id": "O9_i9diq8TZi"
   },
   "source": [
    "The modeling stage follows, during which we will create a high-accuracy model. We'll utilize the 'accuracy' metrics because the target has a fair number of categories.\n",
    "\n",
    "Here are the steps to perform modeling:\n",
    "1. Splitting train and test dataset\n",
    "2. Train using default data (Experiment 1)\n",
    "3. Train using normalization (Experiment 2)"
   ]
  },
  {
   "cell_type": "markdown",
   "id": "2856b286-dca9-4ed6-8d80-16775185603e",
   "metadata": {
    "id": "2856b286-dca9-4ed6-8d80-16775185603e"
   },
   "source": [
    "### Splitting Train and Test Dataset"
   ]
  },
  {
   "cell_type": "code",
   "execution_count": 26,
   "id": "584785a6",
   "metadata": {
    "id": "584785a6"
   },
   "outputs": [],
   "source": [
    "X_train,X_test,y_train,y_test = train_test_split(X_dummy,y,test_size = 0.3,stratify=y,random_state = 123)"
   ]
  },
  {
   "cell_type": "code",
   "execution_count": 27,
   "id": "5320a61b",
   "metadata": {
    "id": "5320a61b",
    "outputId": "bc35a6e6-63ce-4ab4-8e05-3081ed5ff302"
   },
   "outputs": [
    {
     "name": "stdout",
     "output_type": "stream",
     "text": [
      "Dimensi Train: (700, 65)\n",
      "Dimensi Test: (300, 65)\n"
     ]
    }
   ],
   "source": [
    "print('Dimensi Train:',X_train.shape)\n",
    "print('Dimensi Test:',X_test.shape)"
   ]
  },
  {
   "cell_type": "markdown",
   "id": "f79e6e06-f858-40a8-87f3-d607908ff4fa",
   "metadata": {
    "id": "f79e6e06-f858-40a8-87f3-d607908ff4fa"
   },
   "source": [
    "### Experiment 1"
   ]
  },
  {
   "cell_type": "code",
   "execution_count": 28,
   "id": "0a170968",
   "metadata": {
    "id": "0a170968"
   },
   "outputs": [],
   "source": [
    "result = experiment(X_train,X_test,y_train,y_test)\n",
    "result = pd.DataFrame(result)"
   ]
  },
  {
   "cell_type": "code",
   "execution_count": 29,
   "id": "bb80be10-7688-4a9f-bc33-9e0c2190a405",
   "metadata": {
    "id": "bb80be10-7688-4a9f-bc33-9e0c2190a405",
    "outputId": "168aa705-cbc6-4498-bf0f-2eba653d1aa9"
   },
   "outputs": [
    {
     "data": {
      "text/html": [
       "<div>\n",
       "<style scoped>\n",
       "    .dataframe tbody tr th:only-of-type {\n",
       "        vertical-align: middle;\n",
       "    }\n",
       "\n",
       "    .dataframe tbody tr th {\n",
       "        vertical-align: top;\n",
       "    }\n",
       "\n",
       "    .dataframe thead th {\n",
       "        text-align: right;\n",
       "    }\n",
       "</style>\n",
       "<table border=\"1\" class=\"dataframe\">\n",
       "  <thead>\n",
       "    <tr style=\"text-align: right;\">\n",
       "      <th></th>\n",
       "      <th>model_name</th>\n",
       "      <th>model</th>\n",
       "      <th>accuracy</th>\n",
       "      <th>recall</th>\n",
       "      <th>precision</th>\n",
       "      <th>duration</th>\n",
       "    </tr>\n",
       "  </thead>\n",
       "  <tbody>\n",
       "    <tr>\n",
       "      <th>0</th>\n",
       "      <td>K-Nearest Neighbor</td>\n",
       "      <td>KNeighborsClassifier()</td>\n",
       "      <td>0.696667</td>\n",
       "      <td>0.640000</td>\n",
       "      <td>0.721805</td>\n",
       "      <td>0.000000</td>\n",
       "    </tr>\n",
       "    <tr>\n",
       "      <th>1</th>\n",
       "      <td>Logistic Regression</td>\n",
       "      <td>LogisticRegression()</td>\n",
       "      <td>0.500000</td>\n",
       "      <td>0.000000</td>\n",
       "      <td>0.000000</td>\n",
       "      <td>0.009273</td>\n",
       "    </tr>\n",
       "    <tr>\n",
       "      <th>2</th>\n",
       "      <td>Decision Tree</td>\n",
       "      <td>DecisionTreeClassifier()</td>\n",
       "      <td>0.943333</td>\n",
       "      <td>0.926667</td>\n",
       "      <td>0.958621</td>\n",
       "      <td>0.005041</td>\n",
       "    </tr>\n",
       "    <tr>\n",
       "      <th>3</th>\n",
       "      <td>Random Forest</td>\n",
       "      <td>(DecisionTreeClassifier(max_features='auto', r...</td>\n",
       "      <td>0.950000</td>\n",
       "      <td>0.920000</td>\n",
       "      <td>0.978723</td>\n",
       "      <td>0.140706</td>\n",
       "    </tr>\n",
       "    <tr>\n",
       "      <th>4</th>\n",
       "      <td>Gradient Boosting</td>\n",
       "      <td>([DecisionTreeRegressor(criterion='friedman_ms...</td>\n",
       "      <td>0.933333</td>\n",
       "      <td>0.913333</td>\n",
       "      <td>0.951389</td>\n",
       "      <td>0.170225</td>\n",
       "    </tr>\n",
       "  </tbody>\n",
       "</table>\n",
       "</div>"
      ],
      "text/plain": [
       "            model_name                                              model  \\\n",
       "0   K-Nearest Neighbor                             KNeighborsClassifier()   \n",
       "1  Logistic Regression                               LogisticRegression()   \n",
       "2        Decision Tree                           DecisionTreeClassifier()   \n",
       "3        Random Forest  (DecisionTreeClassifier(max_features='auto', r...   \n",
       "4    Gradient Boosting  ([DecisionTreeRegressor(criterion='friedman_ms...   \n",
       "\n",
       "   accuracy    recall  precision  duration  \n",
       "0  0.696667  0.640000   0.721805  0.000000  \n",
       "1  0.500000  0.000000   0.000000  0.009273  \n",
       "2  0.943333  0.926667   0.958621  0.005041  \n",
       "3  0.950000  0.920000   0.978723  0.140706  \n",
       "4  0.933333  0.913333   0.951389  0.170225  "
      ]
     },
     "execution_count": 29,
     "metadata": {},
     "output_type": "execute_result"
    }
   ],
   "source": [
    "result"
   ]
  },
  {
   "cell_type": "markdown",
   "id": "3rVZyhdsDQPU",
   "metadata": {
    "id": "3rVZyhdsDQPU"
   },
   "source": [
    "The modeling results using the default data are shown below (simple preprocessing).\n",
    "- According on the modeling findings, the decision tree classifier has the highest accuracy.\n",
    "- Random forest is another high-accuracy approach.\n",
    "- The accuracy of some models, such as logistic regression and k-nearest neighbor, is poor."
   ]
  },
  {
   "cell_type": "markdown",
   "id": "1e01995e-7400-444b-9a8d-4b43d7adb980",
   "metadata": {
    "id": "1e01995e-7400-444b-9a8d-4b43d7adb980",
    "tags": []
   },
   "source": [
    "### Experiment 2"
   ]
  },
  {
   "cell_type": "code",
   "execution_count": 30,
   "id": "38ea87b4",
   "metadata": {
    "id": "38ea87b4"
   },
   "outputs": [],
   "source": [
    "from sklearn.preprocessing import MinMaxScaler\n",
    "minmax_scaler = MinMaxScaler()\n",
    "X_train_minmax = minmax_scaler.fit_transform(X_train)\n",
    "X_test_minmax = minmax_scaler.transform(X_test)"
   ]
  },
  {
   "cell_type": "code",
   "execution_count": 39,
   "id": "f00a3fa8",
   "metadata": {
    "id": "f00a3fa8"
   },
   "outputs": [
    {
     "data": {
      "text/html": [
       "<div>\n",
       "<style scoped>\n",
       "    .dataframe tbody tr th:only-of-type {\n",
       "        vertical-align: middle;\n",
       "    }\n",
       "\n",
       "    .dataframe tbody tr th {\n",
       "        vertical-align: top;\n",
       "    }\n",
       "\n",
       "    .dataframe thead th {\n",
       "        text-align: right;\n",
       "    }\n",
       "</style>\n",
       "<table border=\"1\" class=\"dataframe\">\n",
       "  <thead>\n",
       "    <tr style=\"text-align: right;\">\n",
       "      <th></th>\n",
       "      <th>model_name</th>\n",
       "      <th>model</th>\n",
       "      <th>accuracy</th>\n",
       "      <th>recall</th>\n",
       "      <th>precision</th>\n",
       "      <th>duration</th>\n",
       "    </tr>\n",
       "  </thead>\n",
       "  <tbody>\n",
       "    <tr>\n",
       "      <th>0</th>\n",
       "      <td>K-Nearest Neighbor</td>\n",
       "      <td>KNeighborsClassifier()</td>\n",
       "      <td>0.800000</td>\n",
       "      <td>0.740000</td>\n",
       "      <td>0.840909</td>\n",
       "      <td>0.000000</td>\n",
       "    </tr>\n",
       "    <tr>\n",
       "      <th>1</th>\n",
       "      <td>Logistic Regression</td>\n",
       "      <td>LogisticRegression()</td>\n",
       "      <td>0.940000</td>\n",
       "      <td>0.900000</td>\n",
       "      <td>0.978261</td>\n",
       "      <td>0.004522</td>\n",
       "    </tr>\n",
       "    <tr>\n",
       "      <th>2</th>\n",
       "      <td>Decision Tree</td>\n",
       "      <td>DecisionTreeClassifier()</td>\n",
       "      <td>0.930000</td>\n",
       "      <td>0.926667</td>\n",
       "      <td>0.932886</td>\n",
       "      <td>0.000000</td>\n",
       "    </tr>\n",
       "    <tr>\n",
       "      <th>3</th>\n",
       "      <td>Random Forest</td>\n",
       "      <td>(DecisionTreeClassifier(max_features='auto', r...</td>\n",
       "      <td>0.946667</td>\n",
       "      <td>0.920000</td>\n",
       "      <td>0.971831</td>\n",
       "      <td>0.164986</td>\n",
       "    </tr>\n",
       "    <tr>\n",
       "      <th>4</th>\n",
       "      <td>Gradient Boosting</td>\n",
       "      <td>([DecisionTreeRegressor(criterion='friedman_ms...</td>\n",
       "      <td>0.930000</td>\n",
       "      <td>0.913333</td>\n",
       "      <td>0.944828</td>\n",
       "      <td>0.175177</td>\n",
       "    </tr>\n",
       "  </tbody>\n",
       "</table>\n",
       "</div>"
      ],
      "text/plain": [
       "            model_name                                              model  \\\n",
       "0   K-Nearest Neighbor                             KNeighborsClassifier()   \n",
       "1  Logistic Regression                               LogisticRegression()   \n",
       "2        Decision Tree                           DecisionTreeClassifier()   \n",
       "3        Random Forest  (DecisionTreeClassifier(max_features='auto', r...   \n",
       "4    Gradient Boosting  ([DecisionTreeRegressor(criterion='friedman_ms...   \n",
       "\n",
       "   accuracy    recall  precision  duration  \n",
       "0  0.800000  0.740000   0.840909  0.000000  \n",
       "1  0.940000  0.900000   0.978261  0.004522  \n",
       "2  0.930000  0.926667   0.932886  0.000000  \n",
       "3  0.946667  0.920000   0.971831  0.164986  \n",
       "4  0.930000  0.913333   0.944828  0.175177  "
      ]
     },
     "execution_count": 39,
     "metadata": {},
     "output_type": "execute_result"
    }
   ],
   "source": [
    "result2 = experiment(X_train_minmax,X_test_minmax,y_train,y_test)\n",
    "result2 = pd.DataFrame(result2)\n",
    "result2"
   ]
  },
  {
   "cell_type": "markdown",
   "id": "cov1wIFpKzGw",
   "metadata": {
    "id": "cov1wIFpKzGw"
   },
   "source": [
    "We saw considerable gains in various models after applying the min max scaler, particularly in the k-nearest neighbor and logistic regression models. In reality, logistic regression is the second most accurate model after random forest.\n",
    "\n",
    "Based on these methodologies, we will select random forest as the best model because it has the maximum accuracy. If there are computing limits, Logistic Regression can also be a good option."
   ]
  },
  {
   "cell_type": "markdown",
   "id": "8ef5353e-e5f4-4d11-9572-6ae988fb6ac2",
   "metadata": {
    "id": "8ef5353e-e5f4-4d11-9572-6ae988fb6ac2"
   },
   "source": [
    "### Evaluation"
   ]
  },
  {
   "cell_type": "code",
   "execution_count": 40,
   "id": "3505db21",
   "metadata": {
    "id": "3505db21"
   },
   "outputs": [],
   "source": [
    "final_model = result2['model'][3]\n",
    "y_pred = final_model.predict(X_test_minmax)"
   ]
  },
  {
   "cell_type": "code",
   "execution_count": 41,
   "id": "979b64bc",
   "metadata": {
    "id": "979b64bc",
    "outputId": "83bf8cfa-7118-4516-8cdc-b1ebc0476a81"
   },
   "outputs": [
    {
     "data": {
      "image/png": "[encoded data removed]",
      "text/plain": [
       "<Figure size 432x288 with 2 Axes>"
      ]
     },
     "metadata": {
      "needs_background": "light"
     },
     "output_type": "display_data"
    }
   ],
   "source": [
    "cm = confusion_matrix(y_test,y_pred)\n",
    "\n",
    "disp = ConfusionMatrixDisplay(confusion_matrix=cm,display_labels=final_model.classes_)\n",
    "\n",
    "disp.plot(cmap='YlGnBu')\n",
    "plt.show()"
   ]
  },
  {
   "cell_type": "markdown",
   "id": "HW7jgErAL8Vj",
   "metadata": {
    "id": "HW7jgErAL8Vj"
   },
   "source": [
    "We want to see how our model performs in detail based on the random forest model. We shall use the confusion matrix for this. The random forest generated confusion matrix is excellent. We can see that the prediction mistakes (purple cells) are relatively small (top right and bottom left). With these results, we will have high accuracy, precision, and recall."
   ]
  },
  {
   "cell_type": "markdown",
   "id": "599f9880-a56a-46c0-b171-22e761c4c365",
   "metadata": {
    "id": "599f9880-a56a-46c0-b171-22e761c4c365"
   },
   "source": [
    "### Feature Importances"
   ]
  },
  {
   "cell_type": "code",
   "execution_count": 42,
   "id": "22cf9dcb",
   "metadata": {
    "id": "22cf9dcb"
   },
   "outputs": [],
   "source": [
    "feature_imp = {}\n",
    "\n",
    "feature_imp['columns'] = X_train.columns\n",
    "feature_imp['feature_imp'] = result2['model'][3].feature_importances_"
   ]
  },
  {
   "cell_type": "code",
   "execution_count": 43,
   "id": "e151ea4b",
   "metadata": {
    "id": "e151ea4b"
   },
   "outputs": [],
   "source": [
    "df_feature_imp = pd.DataFrame(feature_imp)\n",
    "df_feature_imp = df_feature_imp.sort_values(['feature_imp'],ascending=False).head(20)"
   ]
  },
  {
   "cell_type": "code",
   "execution_count": 46,
   "id": "f87bdf1d",
   "metadata": {
    "id": "f87bdf1d",
    "outputId": "339fecbc-7f8c-4f5b-b964-ff043431de77"
   },
   "outputs": [
    {
     "data": {
      "text/plain": [
       "<AxesSubplot:xlabel='feature_imp', ylabel='columns'>"
      ]
     },
     "execution_count": 46,
     "metadata": {},
     "output_type": "execute_result"
    },
    {
     "data": {
      "image/png": "[encoded data removed]",
      "text/plain": [
       "<Figure size 648x720 with 1 Axes>"
      ]
     },
     "metadata": {
      "needs_background": "light"
     },
     "output_type": "display_data"
    }
   ],
   "source": [
    "plt.figure(figsize=(9,10))\n",
    "colors1 = [\"#2B70E4\", \"#209D5C\",'#FFD034']\n",
    "customPalette1 = sns.set_palette(sns.color_palette(colors))\n",
    "sns.barplot(x=df_feature_imp['feature_imp'],y=df_feature_imp['columns'],palette=customPalette1)"
   ]
  },
  {
   "cell_type": "markdown",
   "id": "DCqahEhTTOR-",
   "metadata": {
    "id": "DCqahEhTTOR-"
   },
   "source": [
    "We can see the most essential elements in developing the model by using the random forest model.\n",
    "\n",
    "According to the random forest approach, daily internet usage is a highly crucial factor in deciding whether a user will click or not. Other crucial factors include the amount of daily time spent on site, as well as the age and income of the community.\n",
    "\n",
    "When we integrate the insights from the EDA process, we find that the more the daily internet usage, the lesser the likelihood that the user will click."
   ]
  },
  {
   "cell_type": "markdown",
   "id": "10d2169a",
   "metadata": {
    "id": "10d2169a"
   },
   "source": [
    "## Business Recomendation and Simulation"
   ]
  },
  {
   "cell_type": "markdown",
   "id": "7d1a0f35",
   "metadata": {},
   "source": [
    "We can classify users into two categories based on EDA and feature importance: upper-class and lower-class users.\n",
    "\n",
    "- The upper class meets the characteristics of regular internet use, frequent visits to a product website, being relatively youthful, and having a high sincome.\n",
    "- The lower class has the opposite characteristics."
   ]
  },
  {
   "cell_type": "markdown",
   "id": "7cdb8479-ae5a-4d95-ae56-8df9c420c969",
   "metadata": {},
   "source": [
    "### Business Insight"
   ]
  },
  {
   "cell_type": "markdown",
   "id": "47d81340-7273-458a-a444-bc99851968aa",
   "metadata": {},
   "source": [
    "- Users from lower socioeconomic levels are more likely to click on things in digital ads\n",
    "\n",
    "- Users that use the internet frequently may find it more difficult to receive advertisements because they are accustomed to digital adverts.\n",
    "\n",
    "- Parents represent a potentially lucrative market for the digital industry."
   ]
  },
  {
   "cell_type": "markdown",
   "id": "65f93a07-1db1-4acb-84ce-e4d858b7e9ee",
   "metadata": {},
   "source": [
    "### Business Takeways"
   ]
  },
  {
   "cell_type": "markdown",
   "id": "bf001ebf-1bf9-41c9-b968-7c2e4e2d8739",
   "metadata": {},
   "source": [
    "- We can use a more unique approach (soft selling) so that users are not as aware of the advertising.\n",
    "\n",
    "- To attract low-end consumers, employ mainstream material (simple but relevant)."
   ]
  },
  {
   "cell_type": "markdown",
   "id": "6f8ee6e9",
   "metadata": {
    "id": "6f8ee6e9"
   },
   "source": [
    "### Model Based - Simulation\n",
    "\n",
    "Using the constructed ML model, we can run the following simulation:\n",
    "\n",
    "Assuming:\n",
    "\n",
    "- To advertise to a user, a budget of **10,000 rupiah** can be used.\n",
    "- Test data can be used as a simulation tool for roughly 300 users, with 150 people in each class.\n",
    "- We will make a profit of **12.000 rupiah** for each user that converts."
   ]
  },
  {
   "cell_type": "code",
   "execution_count": 37,
   "id": "54848b7a",
   "metadata": {
    "id": "54848b7a",
    "outputId": "cc4a907a-e9e9-44ea-879b-22b8a539466c"
   },
   "outputs": [
    {
     "data": {
      "text/plain": [
       "(300, 65)"
      ]
     },
     "execution_count": 37,
     "metadata": {},
     "output_type": "execute_result"
    }
   ],
   "source": [
    "# Size of test data\n",
    "X_test.shape"
   ]
  },
  {
   "cell_type": "code",
   "execution_count": 38,
   "id": "a8bda0cc",
   "metadata": {
    "id": "a8bda0cc",
    "outputId": "49a4ce4c-b805-4674-a8bf-ba9499278cf8"
   },
   "outputs": [
    {
     "data": {
      "text/plain": [
       "1    150\n",
       "0    150\n",
       "dtype: int64"
      ]
     },
     "execution_count": 38,
     "metadata": {},
     "output_type": "execute_result"
    }
   ],
   "source": [
    "# Number of classes in each data\n",
    "jum_class = pd.Series(y_test).value_counts()\n",
    "jum_class"
   ]
  },
  {
   "cell_type": "markdown",
   "id": "3c7115eb",
   "metadata": {
    "id": "3c7115eb"
   },
   "source": [
    "**Simulation Without Machine Learning** \n",
    "- We will use a budget of 10,000/user to do advertisement\n",
    "- Cost : 300 x  10,000 = 3,000,000\n",
    "- The conversion rate we will get is 50%\n",
    "- There are 150 users who convert \n",
    "- Revenue : 150 x 12,000 = 1,800,000\n",
    "- Profit : 1,800,000 - 3,000,000 = -1,200,000\n",
    "\n",
    "According to the simulation above, if we do not apply the machine learning model, we will get a potential loss of Rp 1,200,000.-"
   ]
  },
  {
   "cell_type": "markdown",
   "id": "0364b067",
   "metadata": {
    "id": "0364b067"
   },
   "source": [
    "<img src='https://drive.google.com/uc?id=1QqafiIgcQX2jyp8ua47-tssU-bapDUrL'>"
   ]
  },
  {
   "cell_type": "markdown",
   "id": "81071d17",
   "metadata": {
    "id": "81071d17"
   },
   "source": [
    "**Simulation With Machine Learning** \n",
    "- We will only advertise to those who have potentially clicked (which we predict 1)\n",
    "- We will use the same budget which is around 10,000/user to do advertisement\n",
    "- Cost : 145 x 10,000 = 1,450.000\n",
    "- We will get a conversion rate of 139/145 = 95.86%.\n",
    "- We expect that 139 of the 145 users will convert.\n",
    "- Revenue : 138 x 12,000 = 1,668,000\n",
    "- Profit : 1,668,00 - 1,420,00 = 218,000\n",
    "\n",
    "According to the simulation above, if we utilize the machine learning model, we may earn Rp 218,000.-\n",
    "\n",
    "As a result, machine learning may work more efficiently and effectively, even converting potential losses into possible revenues."
   ]
  }
 ],
 "metadata": {
  "colab": {
   "collapsed_sections": [],
   "name": "Predict customer clicked ads classification by using machine learning.ipynb",
   "provenance": []
  },
  "kernelspec": {
   "display_name": "Python 3 (ipykernel)",
   "language": "python",
   "name": "python3"
  },
  "language_info": {
   "codemirror_mode": {
    "name": "ipython",
    "version": 3
   },
   "file_extension": ".py",
   "mimetype": "text/x-python",
   "name": "python",
   "nbconvert_exporter": "python",
   "pygments_lexer": "ipython3",
   "version": "3.9.7"
  }
 },
 "nbformat": 4,
 "nbformat_minor": 5
}
